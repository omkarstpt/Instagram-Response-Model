{
 "cells": [
  {
   "cell_type": "code",
   "execution_count": 102,
   "metadata": {},
   "outputs": [],
   "source": [
    "from chatterbot import ChatBot\n",
    "from chatterbot.trainers import ListTrainer\n",
    "from chatterbot.trainers import ChatterBotCorpusTrainer"
   ]
  },
  {
   "cell_type": "code",
   "execution_count": 103,
   "metadata": {},
   "outputs": [
    {
     "name": "stdout",
     "output_type": "stream",
     "text": [
      "Training ai.yml: [####################] 100%\n",
      "Training botprofile.yml: [####################] 100%\n",
      "Training computers.yml: [####################] 100%\n",
      "Training conversations.yml: [####################] 100%\n",
      "Training emotion.yml: [####################] 100%\n",
      "Training food.yml: [####################] 100%\n",
      "Training gossip.yml: [####################] 100%\n",
      "Training greetings.yml: [####################] 100%\n",
      "Training health.yml: [####################] 100%\n",
      "Training history.yml: [####################] 100%\n",
      "Training humor.yml: [####################] 100%\n",
      "Training literature.yml: [####################] 100%\n",
      "Training money.yml: [####################] 100%\n",
      "Training movies.yml: [####################] 100%\n",
      "Training politics.yml: [####################] 100%\n",
      "Training psychology.yml: [####################] 100%\n",
      "Training science.yml: [####################] 100%\n",
      "Training sports.yml: [####################] 100%\n",
      "Training trivia.yml: [####################] 100%\n"
     ]
    }
   ],
   "source": [
    "#initialize bot and trainer\n",
    "chatbot = ChatBot(\"insta_bot\")\n",
    "\n",
    "trainer = ListTrainer(chatbot)\n",
    "\n",
    "trainer2 = ChatterBotCorpusTrainer(chatbot)\n",
    "\n",
    "trainer2.train('chatterbot.corpus.english')"
   ]
  },
  {
   "cell_type": "code",
   "execution_count": 117,
   "metadata": {},
   "outputs": [
    {
     "name": "stdout",
     "output_type": "stream",
     "text": [
      "[['This is a great picture', 'Thanks!'], ['This is a bad picture', 'Sorry'], ['Nice', 'Thank you!'], ['Good click ', 'Thanks!'], ['Good', 'Thanks!'], ['nice click', 'Thanks!'], ['looks good', 'Thank you!'], ['looks great', 'Thank you!'], ['wow', 'Thank you! '], ['amazing', 'Thank you!'], ['awesome', 'Thank you! '], ['beautiful', 'Thank you! '], ['pretty', 'Thank you! '], ['bad', 'Sorry'], ['bad picture', 'Sorry']]\n",
      "List Trainer: [####################] 100%\n",
      "List Trainer: [####################] 100%\n",
      "List Trainer: [####################] 100%\n",
      "List Trainer: [####################] 100%\n",
      "List Trainer: [####################] 100%\n",
      "List Trainer: [####################] 100%\n",
      "List Trainer: [####################] 100%\n",
      "List Trainer: [####################] 100%\n",
      "List Trainer: [####################] 100%\n",
      "List Trainer: [####################] 100%\n",
      "List Trainer: [####################] 100%\n",
      "List Trainer: [####################] 100%\n",
      "List Trainer: [####################] 100%\n",
      "List Trainer: [####################] 100%\n",
      "List Trainer: [####################] 100%\n",
      "[['This is a great picture', 'Thanks!'], ['This is a bad picture', 'Sorry'], ['Nice', 'Thank you!'], ['Good click ', 'Thanks!'], ['Good', 'Thanks!'], ['nice click', 'Thanks!'], ['looks good', 'Thank you!'], ['looks great', 'Thank you!'], ['wow', 'Thank you! '], ['amazing', 'Thank you!'], ['awesome', 'Thank you! '], ['beautiful', 'Thank you! '], ['pretty', 'Thank you! '], ['bad', 'Sorry'], ['bad picture', 'Sorry']]\n",
      "List Trainer: [####################] 100%\n",
      "List Trainer: [####################] 100%\n",
      "List Trainer: [####################] 100%\n",
      "List Trainer: [####################] 100%\n",
      "List Trainer: [####################] 100%\n",
      "List Trainer: [####################] 100%\n",
      "List Trainer: [####################] 100%\n",
      "List Trainer: [####################] 100%\n",
      "List Trainer: [####################] 100%\n",
      "List Trainer: [####################] 100%\n",
      "List Trainer: [####################] 100%\n",
      "List Trainer: [####################] 100%\n",
      "List Trainer: [####################] 100%\n",
      "List Trainer: [####################] 100%\n",
      "List Trainer: [####################] 100%\n"
     ]
    }
   ],
   "source": [
    "# opening the text file with training data in the form of comment-response pairs\n",
    "\n",
    "with open(\"comments.txt\") as fp:\n",
    "    lines = fp.read().splitlines()\n",
    "    #print(lines)\n",
    "    n = 2\n",
    "    split_into_sublists_of_two = [lines[i * n:(i + 1) * n] for i in range((len(lines) + n - 1) // n)]\n",
    "    print(split_into_sublists_of_two)\n",
    "    for comment_response_pair in split_into_sublists_of_two:\n",
    "        trainer.train(comment_response_pair)\n",
    "        \n",
    "# reinforcing custom inputs\n",
    "        \n",
    "with open(\"comments.txt\") as fp:\n",
    "    lines = fp.read().splitlines()\n",
    "    #print(lines)\n",
    "    n = 2\n",
    "    split_into_sublists_of_two = [lines[i * n:(i + 1) * n] for i in range((len(lines) + n - 1) // n)]\n",
    "    print(split_into_sublists_of_two)\n",
    "    for comment_response_pair in split_into_sublists_of_two:\n",
    "        trainer.train(comment_response_pair)"
   ]
  },
  {
   "cell_type": "code",
   "execution_count": 132,
   "metadata": {},
   "outputs": [
    {
     "name": "stdout",
     "output_type": "stream",
     "text": [
      "Enter the comment: good click\n",
      "Thanks!\n"
     ]
    }
   ],
   "source": [
    "comment = input(\"Enter the comment: \")\n",
    "# if comment == \"q\":\n",
    "#     break\n",
    "response = str(chatbot.get_response(comment))\n",
    "\n",
    "#For now allowing only those responses which are thank yous' for positive comments\n",
    "# if \"Thank\" not in response:\n",
    "#     print(\"No response\")\n",
    "# else:\n",
    "#     print(response)\n",
    "\n",
    "print(response)"
   ]
  },
  {
   "cell_type": "code",
   "execution_count": null,
   "metadata": {},
   "outputs": [],
   "source": [
    "# Format for training data\n",
    "\n",
    "# trainer.train([\n",
    "#     \"good\",\n",
    "#     \"Thanks!\",\n",
    "# ])\n",
    "\n",
    "# trainer.train([\n",
    "#     \"nice click\",\n",
    "#     \"Thanks!\",\n",
    "# ])\n",
    "\n",
    "# trainer.train([\n",
    "#     \"looks good\",\n",
    "#     \"Thanks!\",\n",
    "# ])\n",
    "\n",
    "# trainer.train([\n",
    "#     \"wow\",\n",
    "#     \"Thanks!\",\n",
    "# ])\n",
    "\n",
    "# trainer.train([\n",
    "#     \"amazing\",\n",
    "#     \"Thanks!\",\n",
    "# ])\n",
    "\n",
    "# trainer.train([\n",
    "#     \"awesome\",\n",
    "#     \"Thanks!\",\n",
    "# ])\n",
    "\n",
    "# trainer.train([\n",
    "#     \"beautiful\",\n",
    "#     \"Thanks!\",\n",
    "# ])\n",
    "\n",
    "# trainer.train([\n",
    "#     \"pretty\",\n",
    "#     \"Thanks!\",\n",
    "# ])\n",
    "\n",
    "# trainer.train([\n",
    "#     \"bad\",\n",
    "#     \"Sorry\",\n",
    "# ])"
   ]
  }
 ],
 "metadata": {
  "kernelspec": {
   "display_name": "cosm",
   "language": "python",
   "name": "cosm"
  },
  "language_info": {
   "codemirror_mode": {
    "name": "ipython",
    "version": 3
   },
   "file_extension": ".py",
   "mimetype": "text/x-python",
   "name": "python",
   "nbconvert_exporter": "python",
   "pygments_lexer": "ipython3",
   "version": "3.6.9"
  }
 },
 "nbformat": 4,
 "nbformat_minor": 2
}
